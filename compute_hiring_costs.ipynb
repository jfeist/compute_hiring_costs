{
 "cells": [
  {
   "cell_type": "code",
   "execution_count": 2,
   "id": "1e6cf1d7-4e03-4a43-9f85-9e553705ca5d",
   "metadata": {
    "execution": {
     "iopub.execute_input": "2025-06-19T18:02:38.992444Z",
     "iopub.status.busy": "2025-06-19T18:02:38.991417Z",
     "iopub.status.idle": "2025-06-19T18:02:39.079103Z",
     "shell.execute_reply": "2025-06-19T18:02:39.078627Z",
     "shell.execute_reply.started": "2025-06-19T18:02:38.992378Z"
    }
   },
   "outputs": [],
   "source": [
    "from datetime import date, timedelta\n",
    "from dateutil.rrule import rrule, MONTHLY\n",
    "import ipywidgets as ipw"
   ]
  },
  {
   "cell_type": "code",
   "execution_count": 3,
   "id": "3c178da8-58c5-497b-8f95-1ff142a94080",
   "metadata": {
    "execution": {
     "iopub.execute_input": "2025-06-19T18:02:39.819694Z",
     "iopub.status.busy": "2025-06-19T18:02:39.818925Z",
     "iopub.status.idle": "2025-06-19T18:02:39.832362Z",
     "shell.execute_reply": "2025-06-19T18:02:39.831316Z",
     "shell.execute_reply.started": "2025-06-19T18:02:39.819662Z"
    }
   },
   "outputs": [],
   "source": [
    "##### THE FOLLOWING SECTION SHOULD BE TOUCHED ONLY TO UPDATE IF E.G. THE LAW CHANGES\n",
    "\n",
    "socialCostsPerc      = 32.1     ### percentage for social costs\n",
    "daysPerYearSeverance = 20       ### # of days per year for severance after firing\n",
    "\n",
    "minimumSalary = {\n",
    "        'Predoctoral' : 1929.00,\n",
    "        'Postdoctoral': 2302.40,\n",
    "}"
   ]
  },
  {
   "cell_type": "code",
   "execution_count": 4,
   "id": "8a8a9959-fe0e-488b-9a78-59d1ec30f607",
   "metadata": {
    "execution": {
     "iopub.execute_input": "2025-06-19T18:02:40.622939Z",
     "iopub.status.busy": "2025-06-19T18:02:40.622303Z",
     "iopub.status.idle": "2025-06-19T18:02:40.653413Z",
     "shell.execute_reply": "2025-06-19T18:02:40.652704Z",
     "shell.execute_reply.started": "2025-06-19T18:02:40.622894Z"
    }
   },
   "outputs": [
    {
     "data": {
      "application/vnd.jupyter.widget-view+json": {
       "model_id": "7bdc21182c434c0fac375ed2247fdc58",
       "version_major": 2,
       "version_minor": 0
      },
      "text/plain": [
       "interactive(children=(DatePicker(value=datetime.date(2025, 6, 19), description='Starting date', step=1), DateP…"
      ]
     },
     "metadata": {},
     "output_type": "display_data"
    }
   ],
   "source": [
    "@ipw.interact(\n",
    "    startdate = ipw.DatePicker(value=date.today(), description=\"Starting date\"),\n",
    "    enddate   = ipw.DatePicker(value=date.today(), description=\"End date\"),\n",
    "    hiringProfile = ipw.Dropdown(options=[\"Predoctoral\", \"Postdoctoral\"], description=\"hiring profile\"),\n",
    "    grossSalaryMonth = ipw.FloatText(value=minimumSalary[\"Predoctoral\"], description=\"Gross salary\")\n",
    ")\n",
    "def print_costs(startdate,enddate,hiringProfile,grossSalaryMonth):\n",
    "    if grossSalaryMonth < minimumSalary[hiringProfile]:\n",
    "        print(f\"Error! Minimum salary for hiring profile {hiringProfile} is {minimumSalary[hiringProfile]:.2f}€/month\")\n",
    "        return\n",
    "\n",
    "    total = 0\n",
    "    for year in range(startdate.year, enddate.year+1):\n",
    "        start_in_year = max(startdate, date(year, 1, 1))\n",
    "        end_in_year = min(enddate, date(year, 12, 31))\n",
    "        end_p1 = end_in_year + timedelta(days=1)\n",
    "\n",
    "        month_limits = [d.date() for d in rrule(MONTHLY, dtstart=start_in_year, until=end_p1)]\n",
    "        full_months = len(month_limits) - 1\n",
    "\n",
    "        extra_days = (end_in_year + timedelta(days=1) - month_limits[-1]).days\n",
    "        grossSalary = grossSalaryMonth * (full_months + extra_days * 12 / 365)\n",
    "        hiringCosts = grossSalary * (1 + 0.01 * socialCostsPerc)\n",
    "        total       += hiringCosts\n",
    "\n",
    "        print(f\"{year:9d}: {hiringCosts:8.2f}\")\n",
    "\n",
    "    ##### compute severance and total\n",
    "    nDays               = (enddate - startdate).days\n",
    "    nDaysSeverance      = nDays / 365 * daysPerYearSeverance\n",
    "    equivalentSalaryDay = grossSalaryMonth * 12 / 365\n",
    "    severance           = nDaysSeverance * equivalentSalaryDay\n",
    "    total              += severance\n",
    "    print(f\"Severance: {severance:8.2f}\")\n",
    "    print(f\"    Total: {total:8.2f}\")"
   ]
  }
 ],
 "metadata": {
  "kernelspec": {
   "display_name": "Python 3 (ipykernel)",
   "language": "python",
   "name": "python3"
  },
  "language_info": {
   "codemirror_mode": {
    "name": "ipython",
    "version": 3
   },
   "file_extension": ".py",
   "mimetype": "text/x-python",
   "name": "python",
   "nbconvert_exporter": "python",
   "pygments_lexer": "ipython3",
   "version": "3.13.5"
  }
 },
 "nbformat": 4,
 "nbformat_minor": 5
}
